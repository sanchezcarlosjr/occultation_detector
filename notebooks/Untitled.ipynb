{
 "cells": [
  {
   "cell_type": "code",
   "execution_count": 2,
   "id": "213c5361-4677-4c5d-bd63-6687cad40434",
   "metadata": {},
   "outputs": [],
   "source": [
    "from occultation_detector.simulator import Simulator\n",
    "from occultation_detector.plotter import plot_normalized_intensity\n",
    "import numpy as np"
   ]
  },
  {
   "cell_type": "code",
   "execution_count": 3,
   "id": "f5cc29fe-23a0-4dde-b4ed-72f84edb0bfc",
   "metadata": {},
   "outputs": [],
   "source": [
    "s=Simulator()\n",
    "s.run()"
   ]
  },
  {
   "cell_type": "code",
   "execution_count": 5,
   "id": "e4f56313-c363-4050-8964-d76235f4f7c5",
   "metadata": {},
   "outputs": [
    {
     "data": {
      "text/plain": [
       "[array([1.        , 1.        , 1.        , 1.        , 1.        ,\n",
       "        1.        , 1.        , 1.        , 1.        , 1.        ,\n",
       "        1.        , 1.        , 0.99999999, 1.00000001, 0.99999999,\n",
       "        1.00000001, 0.99999998, 1.00000002, 0.99999997, 1.00000005,\n",
       "        0.99999993, 0.99999998, 1.00000121, 1.00000259, 1.00000424,\n",
       "        1.00000126, 1.00000369, 1.00002228, 1.00000091, 0.99999398,\n",
       "        1.00004909, 1.00002487, 1.00001365, 1.00002577, 1.00002236,\n",
       "        1.00004052, 1.00005737, 1.00009373, 1.00014967, 1.00016763,\n",
       "        1.00032581, 1.00048136, 1.00047195, 1.00673504, 0.97951054,\n",
       "        0.91436608, 0.84552441, 0.84906648, 0.8465426 , 0.845964  ,\n",
       "        0.91353482, 0.97951939, 1.00686363, 1.00055991, 1.00037028,\n",
       "        1.00034179, 1.00016278, 1.00012534, 1.00010227, 1.00005527,\n",
       "        1.00002873, 1.00003978, 1.00002865, 1.0000338 , 1.00002259,\n",
       "        1.00002699, 0.99999832, 1.00001363, 1.00001619, 1.00000429,\n",
       "        1.00000127, 1.0000021 , 1.00000126, 1.00000082, 0.99999998,\n",
       "        0.99999995, 1.00000004, 0.99999998, 1.00000002, 0.99999999,\n",
       "        1.00000001, 0.99999999, 1.00000001, 0.99999999, 1.        ,\n",
       "        1.        , 1.        , 1.        , 1.        , 1.        ])]"
      ]
     },
     "execution_count": 5,
     "metadata": {},
     "output_type": "execute_result"
    }
   ],
   "source": [
    "time_serie,labels=s.simulate_circle_lightcurve(3000,45,0,0,0)"
   ]
  },
  {
   "cell_type": "code",
   "execution_count": 7,
   "id": "e180f4fd-9617-42f2-8723-4c0f40cb4c90",
   "metadata": {},
   "outputs": [
    {
     "data": {
      "image/png": "[encoded data removed]",
      "text/plain": [
       "<Figure size 640x480 with 1 Axes>"
      ]
     },
     "metadata": {},
     "output_type": "display_data"
    }
   ],
   "source": [
    "import matplotlib.pyplot as p\n",
    "p.plot(time_serie[0]);"
   ]
  },
  {
   "cell_type": "code",
   "execution_count": 5,
   "id": "babb04ea-9adc-4f8e-9af5-d0b1180b4e92",
   "metadata": {
    "is_executing": true
   },
   "outputs": [],
   "source": []
  },
  {
   "cell_type": "code",
   "execution_count": 10,
   "id": "f538bfb1e94d64ff",
   "metadata": {
    "collapsed": false,
    "jupyter": {
     "outputs_hidden": false
    }
   },
   "outputs": [],
   "source": [
    "%run model_toolkit.py\n",
    "from joblib import load\n",
    "import numpy as np\n",
    "from sklearn.model_selection import train_test_split\n",
    "import random\n",
    "\n",
    "X, y = load('taosii_circle_simulation_diffraction_profile.joblib')\n",
    "X_train, X_test, y_train, y_test = train_test_split(X, discretize([500,1000,2000,5000,10000], y[:,0]))"
   ]
  },
  {
   "cell_type": "code",
   "execution_count": 15,
   "id": "54735e24-159d-44a1-9b69-71b25ed78091",
   "metadata": {},
   "outputs": [
    {
     "data": {
      "text/plain": [
       "array([ 1000.,  1000.,  1000.,  1000.,  1000.,  1000.,  1000.,  1000.,\n",
       "        1000.,  1000.,  2000.,  2000.,  2000.,  2000.,  2000.,  2000.,\n",
       "        2000.,  2000.,  2000.,  2000.,  3000.,  3000.,  3000.,  3000.,\n",
       "        3000.,  3000.,  3000.,  3000.,  3000.,  3000.,  4000.,  4000.,\n",
       "        4000.,  4000.,  4000.,  4000.,  4000.,  4000.,  4000.,  4000.,\n",
       "        5000.,  5000.,  5000.,  5000.,  5000.,  5000.,  5000.,  5000.,\n",
       "        5000.,  5000.,  6000.,  6000.,  6000.,  6000.,  6000.,  6000.,\n",
       "        6000.,  6000.,  6000.,  6000.,  7000.,  7000.,  7000.,  7000.,\n",
       "        7000.,  7000.,  7000.,  7000.,  7000.,  7000.,  8000.,  8000.,\n",
       "        8000.,  8000.,  8000.,  8000.,  8000.,  8000.,  8000.,  8000.,\n",
       "        9000.,  9000.,  9000.,  9000.,  9000.,  9000.,  9000.,  9000.,\n",
       "        9000.,  9000., 10000., 10000., 10000., 10000., 10000., 10000.,\n",
       "       10000., 10000., 10000., 10000.])"
      ]
     },
     "execution_count": 15,
     "metadata": {},
     "output_type": "execute_result"
    }
   ],
   "source": [
    "y[:,0]"
   ]
  },
  {
   "cell_type": "code",
   "execution_count": 16,
   "id": "9c3f84cb-98cc-4e03-8939-fee72c4f3647",
   "metadata": {},
   "outputs": [
    {
     "data": {
      "text/plain": [
       "1.0"
      ]
     },
     "execution_count": 16,
     "metadata": {},
     "output_type": "execute_result"
    }
   ],
   "source": [
    "from aeon.classification.convolution_based import RocketClassifier\n",
    "from sklearn.metrics import accuracy_score\n",
    "\n",
    "rocket = RocketClassifier(num_kernels=12000)\n",
    "rocket.fit(X_train, y_train)\n",
    "y_pred = rocket.predict(X_test)\n",
    "accuracy_score(y_test, y_pred)"
   ]
  },
  {
   "cell_type": "code",
   "execution_count": 21,
   "id": "d57ee519-b42c-4b71-9e7a-59e36387f895",
   "metadata": {},
   "outputs": [
    {
     "data": {
      "text/plain": [
       "array([1.])"
      ]
     },
     "execution_count": 21,
     "metadata": {},
     "output_type": "execute_result"
    }
   ],
   "source": [
    "rocket.predict([np.array(time_serie)])"
   ]
  }
 ],
 "metadata": {
  "kernelspec": {
   "display_name": "Python 3 (ipykernel)",
   "language": "python",
   "name": "python3"
  },
  "language_info": {
   "codemirror_mode": {
    "name": "ipython",
    "version": 3
   },
   "file_extension": ".py",
   "mimetype": "text/x-python",
   "name": "python",
   "nbconvert_exporter": "python",
   "pygments_lexer": "ipython3",
   "version": "3.11.9"
  }
 },
 "nbformat": 4,
 "nbformat_minor": 5
}
