{
 "cells": [
  {
   "cell_type": "code",
   "execution_count": null,
   "id": "initial_id",
   "metadata": {
    "collapsed": true,
    "is_executing": true
   },
   "outputs": [],
   "source": [
    "import time\n",
    "\n",
    "from joblib import Parallel, delayed\n",
    "from joblib_progress import joblib_progress\n",
    "\n",
    "\n",
    "def slow_square(i):\n",
    "    time.sleep(i / 2)\n",
    "    return i ** 2\n",
    "\n",
    "with joblib_progress(\"Calculating square...\", total=10):\n",
    "    Parallel(n_jobs=4)(delayed(slow_square)(number) for number in range(10))"
   ]
  },
  {
   "cell_type": "code",
   "execution_count": null,
   "outputs": [],
   "source": [
    "import numpy as np\n",
    "np.array(\n",
    " np.array([1,2,3])   \n",
    ")"
   ],
   "metadata": {
    "collapsed": false,
    "is_executing": true
   },
   "id": "b4a03a1a7b09f56c"
  },
  {
   "cell_type": "code",
   "execution_count": null,
   "outputs": [],
   "source": [],
   "metadata": {
    "collapsed": false
   },
   "id": "1d8b43ed3ed98c86"
  }
 ],
 "metadata": {
  "kernelspec": {
   "display_name": "Python 3",
   "language": "python",
   "name": "python3"
  },
  "language_info": {
   "codemirror_mode": {
    "name": "ipython",
    "version": 2
   },
   "file_extension": ".py",
   "mimetype": "text/x-python",
   "name": "python",
   "nbconvert_exporter": "python",
   "pygments_lexer": "ipython2",
   "version": "2.7.6"
  }
 },
 "nbformat": 4,
 "nbformat_minor": 5
}
