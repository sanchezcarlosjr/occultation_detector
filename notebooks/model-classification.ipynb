{
 "cells": [
  {
   "cell_type": "code",
   "execution_count": 3,
   "id": "0f4576f2-eefc-48e5-af70-e315dacb202f",
   "metadata": {},
   "outputs": [],
   "source": [
    "import matplotlib.pyplot as plt\n",
    "import numpy as np\n",
    "import pandas as pd\n",
    "import tensorflow as tf\n",
    "\n",
    "from sklearn.metrics import accuracy_score, precision_score, recall_score\n",
    "from sklearn.model_selection import train_test_split\n",
    "from sklearn.preprocessing import MinMaxScaler\n",
    "from sklearn.model_selection import RepeatedKFold\n",
    "from tensorflow.keras import layers, losses, Sequential\n",
    "from tensorflow.keras.models import Model\n",
    "from tensorflow.keras.layers import Dense\n",
    "from tensorflow.keras.layers import SimpleRNN, Dense, LSTM"
   ]
  },
  {
   "cell_type": "code",
   "execution_count": 4,
   "id": "1c9802d9-45c7-41c6-8e46-c0e3434b76c4",
   "metadata": {},
   "outputs": [
    {
     "data": {
      "text/html": [
       "<div>\n",
       "<style scoped>\n",
       "    .dataframe tbody tr th:only-of-type {\n",
       "        vertical-align: middle;\n",
       "    }\n",
       "\n",
       "    .dataframe tbody tr th {\n",
       "        vertical-align: top;\n",
       "    }\n",
       "\n",
       "    .dataframe thead th {\n",
       "        text-align: right;\n",
       "    }\n",
       "</style>\n",
       "<table border=\"1\" class=\"dataframe\">\n",
       "  <thead>\n",
       "    <tr style=\"text-align: right;\">\n",
       "      <th></th>\n",
       "      <th>0</th>\n",
       "    </tr>\n",
       "  </thead>\n",
       "  <tbody>\n",
       "  </tbody>\n",
       "</table>\n",
       "</div>"
      ],
      "text/plain": [
       "Empty DataFrame\n",
       "Columns: [0]\n",
       "Index: []"
      ]
     },
     "execution_count": 4,
     "metadata": {},
     "output_type": "execute_result"
    }
   ],
   "source": [
    "import glob\n",
    "instances=[np.load(result) for result in glob.glob('results/*.npy')]\n",
    "array = np.array([instance[:,:92][1] for instance in instances])\n",
    "df=pd.DataFrame(array)\n",
    "df"
   ]
  },
  {
   "cell_type": "code",
   "execution_count": 19,
   "id": "1a75f97f-ae6a-4c77-a2b7-15ca616d916e",
   "metadata": {},
   "outputs": [
    {
     "data": {
      "text/plain": [
       "<Axes: xlabel='Time [s]', ylabel='Normalized intensity'>"
      ]
     },
     "execution_count": 19,
     "metadata": {},
     "output_type": "execute_result"
    },
    {
     "data": {
      "image/png": "[encoded data removed]",
      "text/plain": [
       "<Figure size 640x480 with 1 Axes>"
      ]
     },
     "metadata": {},
     "output_type": "display_data"
    }
   ],
   "source": [
    "plt.xlabel('Time [s]')\n",
    "plt.ylabel('Normalized intensity')\n",
    "df.loc[4099].plot()"
   ]
  },
  {
   "cell_type": "code",
   "execution_count": 77,
   "id": "c2e342de-8cde-4835-b117-f78c152c7591",
   "metadata": {},
   "outputs": [
    {
     "name": "stderr",
     "output_type": "stream",
     "text": [
      "/h1/cesanchez/penv/lib/python3.10/site-packages/sklearn/preprocessing/_discretization.py:269: UserWarning: Feature 0 is constant and will be replaced with 0.\n",
      "  warnings.warn(\n",
      "/h1/cesanchez/penv/lib/python3.10/site-packages/sklearn/preprocessing/_discretization.py:269: UserWarning: Feature 0 is constant and will be replaced with 0.\n",
      "  warnings.warn(\n",
      "/h1/cesanchez/penv/lib/python3.10/site-packages/sklearn/preprocessing/_discretization.py:269: UserWarning: Feature 0 is constant and will be replaced with 0.\n",
      "  warnings.warn(\n"
     ]
    },
    {
     "data": {
      "text/html": [
       "<div>\n",
       "<style scoped>\n",
       "    .dataframe tbody tr th:only-of-type {\n",
       "        vertical-align: middle;\n",
       "    }\n",
       "\n",
       "    .dataframe tbody tr th {\n",
       "        vertical-align: top;\n",
       "    }\n",
       "\n",
       "    .dataframe thead th {\n",
       "        text-align: right;\n",
       "    }\n",
       "</style>\n",
       "<table border=\"1\" class=\"dataframe\">\n",
       "  <thead>\n",
       "    <tr style=\"text-align: right;\">\n",
       "      <th></th>\n",
       "      <th>diameter</th>\n",
       "      <th>ua</th>\n",
       "      <th>toffset</th>\n",
       "      <th>T</th>\n",
       "      <th>b</th>\n",
       "      <th>D</th>\n",
       "      <th>z</th>\n",
       "      <th>R_star</th>\n",
       "      <th>tipo</th>\n",
       "    </tr>\n",
       "  </thead>\n",
       "  <tbody>\n",
       "    <tr>\n",
       "      <th>0</th>\n",
       "      <td>0.0</td>\n",
       "      <td>0.0</td>\n",
       "      <td>0.0</td>\n",
       "      <td>0.0</td>\n",
       "      <td>1.0</td>\n",
       "      <td>0.0</td>\n",
       "      <td>0.0</td>\n",
       "      <td>0.0</td>\n",
       "      <td>0.0</td>\n",
       "    </tr>\n",
       "    <tr>\n",
       "      <th>1</th>\n",
       "      <td>0.0</td>\n",
       "      <td>0.0</td>\n",
       "      <td>0.0</td>\n",
       "      <td>0.0</td>\n",
       "      <td>0.0</td>\n",
       "      <td>0.0</td>\n",
       "      <td>0.0</td>\n",
       "      <td>0.0</td>\n",
       "      <td>0.0</td>\n",
       "    </tr>\n",
       "    <tr>\n",
       "      <th>2</th>\n",
       "      <td>0.0</td>\n",
       "      <td>0.0</td>\n",
       "      <td>0.0</td>\n",
       "      <td>0.0</td>\n",
       "      <td>0.0</td>\n",
       "      <td>0.0</td>\n",
       "      <td>0.0</td>\n",
       "      <td>0.0</td>\n",
       "      <td>0.0</td>\n",
       "    </tr>\n",
       "    <tr>\n",
       "      <th>3</th>\n",
       "      <td>0.0</td>\n",
       "      <td>0.0</td>\n",
       "      <td>0.0</td>\n",
       "      <td>0.0</td>\n",
       "      <td>1.0</td>\n",
       "      <td>0.0</td>\n",
       "      <td>0.0</td>\n",
       "      <td>0.0</td>\n",
       "      <td>0.0</td>\n",
       "    </tr>\n",
       "    <tr>\n",
       "      <th>4</th>\n",
       "      <td>0.0</td>\n",
       "      <td>0.0</td>\n",
       "      <td>0.0</td>\n",
       "      <td>0.0</td>\n",
       "      <td>0.0</td>\n",
       "      <td>0.0</td>\n",
       "      <td>0.0</td>\n",
       "      <td>0.0</td>\n",
       "      <td>0.0</td>\n",
       "    </tr>\n",
       "    <tr>\n",
       "      <th>...</th>\n",
       "      <td>...</td>\n",
       "      <td>...</td>\n",
       "      <td>...</td>\n",
       "      <td>...</td>\n",
       "      <td>...</td>\n",
       "      <td>...</td>\n",
       "      <td>...</td>\n",
       "      <td>...</td>\n",
       "      <td>...</td>\n",
       "    </tr>\n",
       "    <tr>\n",
       "      <th>4095</th>\n",
       "      <td>3.0</td>\n",
       "      <td>3.0</td>\n",
       "      <td>0.0</td>\n",
       "      <td>0.0</td>\n",
       "      <td>3.0</td>\n",
       "      <td>3.0</td>\n",
       "      <td>3.0</td>\n",
       "      <td>3.0</td>\n",
       "      <td>0.0</td>\n",
       "    </tr>\n",
       "    <tr>\n",
       "      <th>4096</th>\n",
       "      <td>3.0</td>\n",
       "      <td>3.0</td>\n",
       "      <td>0.0</td>\n",
       "      <td>0.0</td>\n",
       "      <td>3.0</td>\n",
       "      <td>3.0</td>\n",
       "      <td>3.0</td>\n",
       "      <td>3.0</td>\n",
       "      <td>0.0</td>\n",
       "    </tr>\n",
       "    <tr>\n",
       "      <th>4097</th>\n",
       "      <td>3.0</td>\n",
       "      <td>3.0</td>\n",
       "      <td>0.0</td>\n",
       "      <td>0.0</td>\n",
       "      <td>3.0</td>\n",
       "      <td>3.0</td>\n",
       "      <td>3.0</td>\n",
       "      <td>3.0</td>\n",
       "      <td>0.0</td>\n",
       "    </tr>\n",
       "    <tr>\n",
       "      <th>4098</th>\n",
       "      <td>3.0</td>\n",
       "      <td>3.0</td>\n",
       "      <td>0.0</td>\n",
       "      <td>0.0</td>\n",
       "      <td>3.0</td>\n",
       "      <td>3.0</td>\n",
       "      <td>3.0</td>\n",
       "      <td>3.0</td>\n",
       "      <td>0.0</td>\n",
       "    </tr>\n",
       "    <tr>\n",
       "      <th>4099</th>\n",
       "      <td>3.0</td>\n",
       "      <td>3.0</td>\n",
       "      <td>0.0</td>\n",
       "      <td>0.0</td>\n",
       "      <td>3.0</td>\n",
       "      <td>3.0</td>\n",
       "      <td>3.0</td>\n",
       "      <td>3.0</td>\n",
       "      <td>0.0</td>\n",
       "    </tr>\n",
       "  </tbody>\n",
       "</table>\n",
       "<p>4100 rows × 9 columns</p>\n",
       "</div>"
      ],
      "text/plain": [
       "      diameter   ua  toffset    T    b    D    z  R_star  tipo\n",
       "0          0.0  0.0      0.0  0.0  1.0  0.0  0.0     0.0   0.0\n",
       "1          0.0  0.0      0.0  0.0  0.0  0.0  0.0     0.0   0.0\n",
       "2          0.0  0.0      0.0  0.0  0.0  0.0  0.0     0.0   0.0\n",
       "3          0.0  0.0      0.0  0.0  1.0  0.0  0.0     0.0   0.0\n",
       "4          0.0  0.0      0.0  0.0  0.0  0.0  0.0     0.0   0.0\n",
       "...        ...  ...      ...  ...  ...  ...  ...     ...   ...\n",
       "4095       3.0  3.0      0.0  0.0  3.0  3.0  3.0     3.0   0.0\n",
       "4096       3.0  3.0      0.0  0.0  3.0  3.0  3.0     3.0   0.0\n",
       "4097       3.0  3.0      0.0  0.0  3.0  3.0  3.0     3.0   0.0\n",
       "4098       3.0  3.0      0.0  0.0  3.0  3.0  3.0     3.0   0.0\n",
       "4099       3.0  3.0      0.0  0.0  3.0  3.0  3.0     3.0   0.0\n",
       "\n",
       "[4100 rows x 9 columns]"
      ]
     },
     "execution_count": 77,
     "metadata": {},
     "output_type": "execute_result"
    }
   ],
   "source": [
    "df2 = pd.read_csv('results/taosii_circle_simulation_features.csv')\n",
    "df2 = df2.iloc[: , 1:]\n",
    "df2['tipo'] = 1\n",
    "from sklearn.preprocessing import KBinsDiscretizer\n",
    "for column in df2.columns:\n",
    "    X = np.array(df2[column]).reshape(-1,1)\n",
    "    est = KBinsDiscretizer(n_bins=4, encode='ordinal', strategy='kmeans', subsample=None)\n",
    "    est.fit(X)\n",
    "    df2[column] = est.transform(X).reshape(-1)\n",
    "df2"
   ]
  },
  {
   "cell_type": "code",
   "execution_count": 78,
   "id": "3f5a297f-d0e9-4c26-86c8-b0a9c6d8f064",
   "metadata": {},
   "outputs": [],
   "source": [
    "def get_model(n_inputs, n_outputs):\n",
    " model = Sequential()\n",
    " model.add(Dense(20, input_dim=n_inputs, kernel_initializer='he_uniform', activation='relu'))\n",
    " model.add(Dense(n_outputs))\n",
    " model.compile(loss='mae', optimizer='adam')\n",
    " return model\n",
    " \n",
    "\n",
    "def evaluate_model(X, y):\n",
    " results = list()\n",
    " n_inputs, n_outputs = X.shape[1], y.shape[1]\n",
    " cv = RepeatedKFold(n_splits=10, n_repeats=3)\n",
    " for train_ix, test_ix in cv.split(X):\n",
    "     X_train, X_test = X.iloc[train_ix], X.iloc[test_ix]\n",
    "     #X_test = pd.concat([X_test, ones], axis=0)\n",
    "     y_train, y_test = y.iloc[train_ix], y.iloc[test_ix]\n",
    "     #y_test = pd.concat([y_test, noise], axis=0)\n",
    "     model = get_model(n_inputs, n_outputs)\n",
    "     history = model.fit(tf.convert_to_tensor(X_train), tf.convert_to_tensor(y_train), verbose=0, epochs=100)\n",
    "     mae = model.evaluate(tf.convert_to_tensor(X_test), tf.convert_to_tensor(y_test), verbose=0)\n",
    "     results.append([history, mae, model])\n",
    " return results\n",
    "results = evaluate_model(df,df2)"
   ]
  },
  {
   "cell_type": "code",
   "execution_count": 92,
   "id": "18967de8-34ff-4b3c-a562-d26bf879841d",
   "metadata": {},
   "outputs": [],
   "source": [
    "model.save('model1.keras')"
   ]
  },
  {
   "cell_type": "code",
   "execution_count": 79,
   "id": "57ce6ffb-d1dd-4d92-ade6-ebc96f8d526e",
   "metadata": {},
   "outputs": [
    {
     "data": {
      "image/png": "[encoded data removed]",
      "text/plain": [
       "<Figure size 640x480 with 1 Axes>"
      ]
     },
     "metadata": {},
     "output_type": "display_data"
    },
    {
     "data": {
      "text/plain": [
       "<keras.src.callbacks.History at 0x7fbb00293b50>"
      ]
     },
     "execution_count": 79,
     "metadata": {},
     "output_type": "execute_result"
    }
   ],
   "source": [
    "history = results[-1][0]\n",
    "plt.plot(history.history['loss'])\n",
    "plt.title('model loss')\n",
    "plt.ylabel('loss')\n",
    "plt.xlabel('epoch')\n",
    "plt.show()\n",
    "history"
   ]
  },
  {
   "cell_type": "code",
   "execution_count": 89,
   "id": "adb7125c-ddde-4324-9347-f887480568d5",
   "metadata": {},
   "outputs": [
    {
     "name": "stdout",
     "output_type": "stream",
     "text": [
      "1/1 [==============================] - 0s 74ms/step\n"
     ]
    },
    {
     "data": {
      "text/plain": [
       "array([[ 9.3656015e-01,  1.0584993e+00,  1.4988407e-03, -6.5898746e-03,\n",
       "         1.9709694e+00,  2.0632734e+00,  1.0624419e+00,  1.0806653e+00,\n",
       "         1.7478224e-03]], dtype=float32)"
      ]
     },
     "execution_count": 89,
     "metadata": {},
     "output_type": "execute_result"
    }
   ],
   "source": [
    "model = results[-1][2]\n",
    "model.predict(np.ones((1,92)))"
   ]
  },
  {
   "cell_type": "code",
   "execution_count": 88,
   "id": "0ba2f689-9db2-4140-a7f0-1e7a8318185c",
   "metadata": {},
   "outputs": [
    {
     "data": {
      "text/plain": [
       "array([[1., 1., 1., 1., 1., 1., 1., 1., 1., 1., 1., 1., 1., 1., 1., 1.,\n",
       "        1., 1., 1., 1., 1., 1., 1., 1., 1., 1., 1., 1., 1., 1., 1., 1.,\n",
       "        1., 1., 1., 1., 1., 1., 1., 1., 1., 1., 1., 1., 1., 1., 1., 1.,\n",
       "        1., 1., 1., 1., 1., 1., 1., 1., 1., 1., 1., 1., 1., 1., 1., 1.,\n",
       "        1., 1., 1., 1., 1., 1., 1., 1., 1., 1., 1., 1., 1., 1., 1., 1.,\n",
       "        1., 1., 1., 1., 1., 1., 1., 1., 1., 1., 1., 1.]])"
      ]
     },
     "execution_count": 88,
     "metadata": {},
     "output_type": "execute_result"
    }
   ],
   "source": [
    "np.ones((1,92))"
   ]
  },
  {
   "cell_type": "code",
   "execution_count": 93,
   "id": "5a5858cc-bef3-4e5a-b4bc-2156e9c7f276",
   "metadata": {},
   "outputs": [
    {
     "name": "stdout",
     "output_type": "stream",
     "text": [
      "warning: You ran 'git add' with neither '-A (--all)' or '--ignore-removal',\n",
      "whose behaviour will change in Git 2.0 with respect to paths you removed.\n",
      "Paths like 'model.ipynb' that are\n",
      "removed from your working tree are ignored with this version of Git.\n",
      "\n",
      "* 'git add --ignore-removal <pathspec>', which is the current default,\n",
      "  ignores paths you removed from your working tree.\n",
      "\n",
      "* 'git add --all <pathspec>' will let you also record the removals.\n",
      "\n",
      "Run 'git status' to check the paths you removed from your working tree.\n",
      "\n",
      "[main 793a822] feat: train neuronal network\n",
      " 6 files changed, 2920 insertions(+), 26 deletions(-)\n",
      " create mode 100644 classification.ipynb\n",
      " create mode 100644 detection.ipynb\n",
      " create mode 100644 model1.keras\n",
      "Counting objects: 12, done.\n",
      "Delta compression using up to 20 threads.\n",
      "Compressing objects: 100% (8/8), done.\n",
      "Writing objects: 100% (8/8), 158.73 KiB | 0 bytes/s, done.\n",
      "Total 8 (delta 4), reused 0 (delta 0)\n",
      "remote: Resolving deltas: 100% (4/4), completed with 4 local objects.\u001b[K\n",
      "remote: To git@github.com:sanchezcarlosjr/taos_ii_neuronal_networks.git\n",
      "   f52867b..793a822  main -> main\n"
     ]
    }
   ],
   "source": [
    "! git add . && git commit -m \"feat: train neuronal network\" && git push"
   ]
  },
  {
   "cell_type": "code",
   "execution_count": null,
   "id": "fa2b4caf-c153-42a5-9c0c-dc5f7ae2b089",
   "metadata": {},
   "outputs": [],
   "source": []
  }
 ],
 "metadata": {
  "kernelspec": {
   "display_name": "Python 3 (ipykernel)",
   "language": "python",
   "name": "python3"
  },
  "language_info": {
   "codemirror_mode": {
    "name": "ipython",
    "version": 3
   },
   "file_extension": ".py",
   "mimetype": "text/x-python",
   "name": "python",
   "nbconvert_exporter": "python",
   "pygments_lexer": "ipython3",
   "version": "3.11.9"
  }
 },
 "nbformat": 4,
 "nbformat_minor": 5
}
